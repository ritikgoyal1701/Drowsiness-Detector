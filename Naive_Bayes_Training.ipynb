{
  "nbformat": 4,
  "nbformat_minor": 0,
  "metadata": {
    "colab": {
      "name": "Naive_Bayes_Training.ipynb",
      "provenance": [],
      "authorship_tag": "ABX9TyNRTDIeMTUshxhuZN+KBd1h",
      "include_colab_link": true
    },
    "kernelspec": {
      "name": "python3",
      "display_name": "Python 3"
    },
    "language_info": {
      "name": "python"
    }
  },
  "cells": [
    {
      "cell_type": "markdown",
      "metadata": {
        "id": "view-in-github",
        "colab_type": "text"
      },
      "source": [
        "<a href=\"https://colab.research.google.com/github/ritikgoyal1701/Drowsiness-Detector/blob/main/Naive_Bayes_Training.ipynb\" target=\"_parent\"><img src=\"https://colab.research.google.com/assets/colab-badge.svg\" alt=\"Open In Colab\"/></a>"
      ]
    },
    {
      "cell_type": "markdown",
      "metadata": {
        "id": "M-dWRNmmGuSu"
      },
      "source": [
        "Naive Bayes is used for the training of our drowsiness model"
      ]
    },
    {
      "cell_type": "markdown",
      "metadata": {
        "id": "TmPo91AhGsPc"
      },
      "source": [
        "Importing important libraries"
      ]
    },
    {
      "cell_type": "code",
      "metadata": {
        "id": "US6HfqeYDWPt"
      },
      "source": [
        "import pandas\n",
        "import numpy as np\n",
        "from sklearn.naive_bayes import GaussianNB\n",
        "from sklearn.metrics import classification_report, confusion_matrix"
      ],
      "execution_count": 11,
      "outputs": []
    },
    {
      "cell_type": "markdown",
      "metadata": {
        "id": "t7UDHVpxGbWK"
      },
      "source": [
        "Downloading the dataset which we have previously prepared\n",
        "1. Drowsy\n",
        "2. Alert"
      ]
    },
    {
      "cell_type": "code",
      "metadata": {
        "colab": {
          "base_uri": "https://localhost:8080/"
        },
        "id": "xcQI_LM8Dnwa",
        "outputId": "b444ab87-5d92-4457-cae4-fa97f0ad630d"
      },
      "source": [
        "!wget \"https://drive.google.com/uc?id=1AE9anQEIJrQnjXU6R4CSew81An-3Qs0I\""
      ],
      "execution_count": 2,
      "outputs": [
        {
          "output_type": "stream",
          "text": [
            "--2021-08-03 17:28:11--  https://drive.google.com/uc?id=1AE9anQEIJrQnjXU6R4CSew81An-3Qs0I\n",
            "Resolving drive.google.com (drive.google.com)... 142.251.2.139, 142.251.2.102, 142.251.2.113, ...\n",
            "Connecting to drive.google.com (drive.google.com)|142.251.2.139|:443... connected.\n",
            "HTTP request sent, awaiting response... 302 Moved Temporarily\n",
            "Location: https://doc-0c-7k-docs.googleusercontent.com/docs/securesc/ha0ro937gcuc7l7deffksulhg5h7mbp1/n2s7mltemphcg16nmdq79o4hbl2ri1ej/1628011650000/12611103512387577130/*/1AE9anQEIJrQnjXU6R4CSew81An-3Qs0I [following]\n",
            "Warning: wildcards not supported in HTTP.\n",
            "--2021-08-03 17:28:12--  https://doc-0c-7k-docs.googleusercontent.com/docs/securesc/ha0ro937gcuc7l7deffksulhg5h7mbp1/n2s7mltemphcg16nmdq79o4hbl2ri1ej/1628011650000/12611103512387577130/*/1AE9anQEIJrQnjXU6R4CSew81An-3Qs0I\n",
            "Resolving doc-0c-7k-docs.googleusercontent.com (doc-0c-7k-docs.googleusercontent.com)... 142.251.2.132, 2607:f8b0:4023:c0d::84\n",
            "Connecting to doc-0c-7k-docs.googleusercontent.com (doc-0c-7k-docs.googleusercontent.com)|142.251.2.132|:443... connected.\n",
            "HTTP request sent, awaiting response... 200 OK\n",
            "Length: unspecified [text/csv]\n",
            "Saving to: ‘uc?id=1AE9anQEIJrQnjXU6R4CSew81An-3Qs0I’\n",
            "\n",
            "uc?id=1AE9anQEIJrQn     [  <=>               ]   4.76M  23.0MB/s    in 0.2s    \n",
            "\n",
            "2021-08-03 17:28:13 (23.0 MB/s) - ‘uc?id=1AE9anQEIJrQnjXU6R4CSew81An-3Qs0I’ saved [4992968]\n",
            "\n"
          ],
          "name": "stdout"
        }
      ]
    },
    {
      "cell_type": "code",
      "metadata": {
        "colab": {
          "base_uri": "https://localhost:8080/",
          "height": 419
        },
        "id": "2zM-zBHNDvn2",
        "outputId": "0e03b541-62c0-4fa6-ee5a-afb685f8e14e"
      },
      "source": [
        "pq=pandas.read_csv(\"/content/uc?id=1AE9anQEIJrQnjXU6R4CSew81An-3Qs0I\")\n",
        "pq.drop(\"Unnamed: 0\",axis=1,inplace=True)\n",
        "pq"
      ],
      "execution_count": 3,
      "outputs": [
        {
          "output_type": "execute_result",
          "data": {
            "text/html": [
              "<div>\n",
              "<style scoped>\n",
              "    .dataframe tbody tr th:only-of-type {\n",
              "        vertical-align: middle;\n",
              "    }\n",
              "\n",
              "    .dataframe tbody tr th {\n",
              "        vertical-align: top;\n",
              "    }\n",
              "\n",
              "    .dataframe thead th {\n",
              "        text-align: right;\n",
              "    }\n",
              "</style>\n",
              "<table border=\"1\" class=\"dataframe\">\n",
              "  <thead>\n",
              "    <tr style=\"text-align: right;\">\n",
              "      <th></th>\n",
              "      <th>EAR</th>\n",
              "      <th>MAR</th>\n",
              "      <th>PUC</th>\n",
              "      <th>MOE</th>\n",
              "    </tr>\n",
              "  </thead>\n",
              "  <tbody>\n",
              "    <tr>\n",
              "      <th>0</th>\n",
              "      <td>-1.695219</td>\n",
              "      <td>-0.478695</td>\n",
              "      <td>-2.542126</td>\n",
              "      <td>0.012934</td>\n",
              "    </tr>\n",
              "    <tr>\n",
              "      <th>1</th>\n",
              "      <td>-1.117250</td>\n",
              "      <td>-0.088761</td>\n",
              "      <td>-0.374188</td>\n",
              "      <td>0.256548</td>\n",
              "    </tr>\n",
              "    <tr>\n",
              "      <th>2</th>\n",
              "      <td>-1.653670</td>\n",
              "      <td>-0.325083</td>\n",
              "      <td>-0.627831</td>\n",
              "      <td>0.174467</td>\n",
              "    </tr>\n",
              "    <tr>\n",
              "      <th>3</th>\n",
              "      <td>-1.653670</td>\n",
              "      <td>-0.325083</td>\n",
              "      <td>-0.514742</td>\n",
              "      <td>0.174467</td>\n",
              "    </tr>\n",
              "    <tr>\n",
              "      <th>4</th>\n",
              "      <td>-1.653670</td>\n",
              "      <td>-0.405585</td>\n",
              "      <td>-0.514742</td>\n",
              "      <td>0.082690</td>\n",
              "    </tr>\n",
              "    <tr>\n",
              "      <th>...</th>\n",
              "      <td>...</td>\n",
              "      <td>...</td>\n",
              "      <td>...</td>\n",
              "      <td>...</td>\n",
              "    </tr>\n",
              "    <tr>\n",
              "      <th>60001</th>\n",
              "      <td>-0.100015</td>\n",
              "      <td>6.067398</td>\n",
              "      <td>-1.258254</td>\n",
              "      <td>5.545738</td>\n",
              "    </tr>\n",
              "    <tr>\n",
              "      <th>60002</th>\n",
              "      <td>0.096715</td>\n",
              "      <td>5.119457</td>\n",
              "      <td>-1.274578</td>\n",
              "      <td>4.430580</td>\n",
              "    </tr>\n",
              "    <tr>\n",
              "      <th>60003</th>\n",
              "      <td>-0.086904</td>\n",
              "      <td>3.716327</td>\n",
              "      <td>-1.092155</td>\n",
              "      <td>3.403024</td>\n",
              "    </tr>\n",
              "    <tr>\n",
              "      <th>60004</th>\n",
              "      <td>-3.176089</td>\n",
              "      <td>2.786678</td>\n",
              "      <td>-2.426750</td>\n",
              "      <td>7.298001</td>\n",
              "    </tr>\n",
              "    <tr>\n",
              "      <th>60005</th>\n",
              "      <td>-3.176089</td>\n",
              "      <td>3.785340</td>\n",
              "      <td>-2.617446</td>\n",
              "      <td>8.487523</td>\n",
              "    </tr>\n",
              "  </tbody>\n",
              "</table>\n",
              "<p>60006 rows × 4 columns</p>\n",
              "</div>"
            ],
            "text/plain": [
              "            EAR       MAR       PUC       MOE\n",
              "0     -1.695219 -0.478695 -2.542126  0.012934\n",
              "1     -1.117250 -0.088761 -0.374188  0.256548\n",
              "2     -1.653670 -0.325083 -0.627831  0.174467\n",
              "3     -1.653670 -0.325083 -0.514742  0.174467\n",
              "4     -1.653670 -0.405585 -0.514742  0.082690\n",
              "...         ...       ...       ...       ...\n",
              "60001 -0.100015  6.067398 -1.258254  5.545738\n",
              "60002  0.096715  5.119457 -1.274578  4.430580\n",
              "60003 -0.086904  3.716327 -1.092155  3.403024\n",
              "60004 -3.176089  2.786678 -2.426750  7.298001\n",
              "60005 -3.176089  3.785340 -2.617446  8.487523\n",
              "\n",
              "[60006 rows x 4 columns]"
            ]
          },
          "metadata": {
            "tags": []
          },
          "execution_count": 3
        }
      ]
    },
    {
      "cell_type": "code",
      "metadata": {
        "colab": {
          "base_uri": "https://localhost:8080/"
        },
        "id": "-q6sPwohD1oz",
        "outputId": "41184d24-2603-4f7d-d235-75f54ac4b8b3"
      },
      "source": [
        "!wget \"https://drive.google.com/uc?id=1698bSBXSWG4ktuSLGdzYAB-arYwhhJjY\""
      ],
      "execution_count": 4,
      "outputs": [
        {
          "output_type": "stream",
          "text": [
            "--2021-08-03 17:28:42--  https://drive.google.com/uc?id=1698bSBXSWG4ktuSLGdzYAB-arYwhhJjY\n",
            "Resolving drive.google.com (drive.google.com)... 142.250.141.113, 142.250.141.101, 142.250.141.139, ...\n",
            "Connecting to drive.google.com (drive.google.com)|142.250.141.113|:443... connected.\n",
            "HTTP request sent, awaiting response... 302 Moved Temporarily\n",
            "Location: https://doc-14-7k-docs.googleusercontent.com/docs/securesc/ha0ro937gcuc7l7deffksulhg5h7mbp1/3ivc95k6fcjm3k9mf2b1lhb5hcecdr4l/1628011650000/12611103512387577130/*/1698bSBXSWG4ktuSLGdzYAB-arYwhhJjY [following]\n",
            "Warning: wildcards not supported in HTTP.\n",
            "--2021-08-03 17:28:43--  https://doc-14-7k-docs.googleusercontent.com/docs/securesc/ha0ro937gcuc7l7deffksulhg5h7mbp1/3ivc95k6fcjm3k9mf2b1lhb5hcecdr4l/1628011650000/12611103512387577130/*/1698bSBXSWG4ktuSLGdzYAB-arYwhhJjY\n",
            "Resolving doc-14-7k-docs.googleusercontent.com (doc-14-7k-docs.googleusercontent.com)... 142.251.2.132, 2607:f8b0:4023:c0d::84\n",
            "Connecting to doc-14-7k-docs.googleusercontent.com (doc-14-7k-docs.googleusercontent.com)|142.251.2.132|:443... connected.\n",
            "HTTP request sent, awaiting response... 200 OK\n",
            "Length: unspecified [text/csv]\n",
            "Saving to: ‘uc?id=1698bSBXSWG4ktuSLGdzYAB-arYwhhJjY’\n",
            "\n",
            "uc?id=1698bSBXSWG4k     [  <=>               ]   4.77M  23.1MB/s    in 0.2s    \n",
            "\n",
            "2021-08-03 17:28:44 (23.1 MB/s) - ‘uc?id=1698bSBXSWG4ktuSLGdzYAB-arYwhhJjY’ saved [5000698]\n",
            "\n"
          ],
          "name": "stdout"
        }
      ]
    },
    {
      "cell_type": "code",
      "metadata": {
        "colab": {
          "base_uri": "https://localhost:8080/",
          "height": 419
        },
        "id": "THedlIycD3Ss",
        "outputId": "e3a586d3-8a29-4790-c494-7bafde655767"
      },
      "source": [
        "alert=pandas.read_csv(\"/content/uc?id=1698bSBXSWG4ktuSLGdzYAB-arYwhhJjY\")\n",
        "alert.drop(\"Unnamed: 0\",axis=1, inplace=True)\n",
        "alert"
      ],
      "execution_count": 5,
      "outputs": [
        {
          "output_type": "execute_result",
          "data": {
            "text/html": [
              "<div>\n",
              "<style scoped>\n",
              "    .dataframe tbody tr th:only-of-type {\n",
              "        vertical-align: middle;\n",
              "    }\n",
              "\n",
              "    .dataframe tbody tr th {\n",
              "        vertical-align: top;\n",
              "    }\n",
              "\n",
              "    .dataframe thead th {\n",
              "        text-align: right;\n",
              "    }\n",
              "</style>\n",
              "<table border=\"1\" class=\"dataframe\">\n",
              "  <thead>\n",
              "    <tr style=\"text-align: right;\">\n",
              "      <th></th>\n",
              "      <th>EAR</th>\n",
              "      <th>MAR</th>\n",
              "      <th>PUC</th>\n",
              "      <th>MOE</th>\n",
              "    </tr>\n",
              "  </thead>\n",
              "  <tbody>\n",
              "    <tr>\n",
              "      <th>0</th>\n",
              "      <td>-0.873522</td>\n",
              "      <td>-1.380372</td>\n",
              "      <td>-0.067126</td>\n",
              "      <td>-0.474358</td>\n",
              "    </tr>\n",
              "    <tr>\n",
              "      <th>1</th>\n",
              "      <td>-0.873522</td>\n",
              "      <td>-1.380372</td>\n",
              "      <td>-0.067126</td>\n",
              "      <td>-0.474358</td>\n",
              "    </tr>\n",
              "    <tr>\n",
              "      <th>2</th>\n",
              "      <td>-0.873522</td>\n",
              "      <td>-1.402228</td>\n",
              "      <td>-0.067126</td>\n",
              "      <td>-0.495400</td>\n",
              "    </tr>\n",
              "    <tr>\n",
              "      <th>3</th>\n",
              "      <td>-0.873522</td>\n",
              "      <td>1.326526</td>\n",
              "      <td>-0.067126</td>\n",
              "      <td>2.131768</td>\n",
              "    </tr>\n",
              "    <tr>\n",
              "      <th>4</th>\n",
              "      <td>0.627844</td>\n",
              "      <td>1.326526</td>\n",
              "      <td>-0.388594</td>\n",
              "      <td>0.526276</td>\n",
              "    </tr>\n",
              "    <tr>\n",
              "      <th>...</th>\n",
              "      <td>...</td>\n",
              "      <td>...</td>\n",
              "      <td>...</td>\n",
              "      <td>...</td>\n",
              "    </tr>\n",
              "    <tr>\n",
              "      <th>60001</th>\n",
              "      <td>1.101467</td>\n",
              "      <td>0.228743</td>\n",
              "      <td>0.921352</td>\n",
              "      <td>-0.073856</td>\n",
              "    </tr>\n",
              "    <tr>\n",
              "      <th>60002</th>\n",
              "      <td>0.290266</td>\n",
              "      <td>0.069983</td>\n",
              "      <td>-1.529633</td>\n",
              "      <td>-0.007520</td>\n",
              "    </tr>\n",
              "    <tr>\n",
              "      <th>60003</th>\n",
              "      <td>1.901880</td>\n",
              "      <td>0.275737</td>\n",
              "      <td>2.221742</td>\n",
              "      <td>-0.226629</td>\n",
              "    </tr>\n",
              "    <tr>\n",
              "      <th>60004</th>\n",
              "      <td>1.101467</td>\n",
              "      <td>-0.078860</td>\n",
              "      <td>-0.313887</td>\n",
              "      <td>-0.354479</td>\n",
              "    </tr>\n",
              "    <tr>\n",
              "      <th>60005</th>\n",
              "      <td>1.101467</td>\n",
              "      <td>0.191694</td>\n",
              "      <td>1.083347</td>\n",
              "      <td>-0.107655</td>\n",
              "    </tr>\n",
              "  </tbody>\n",
              "</table>\n",
              "<p>60006 rows × 4 columns</p>\n",
              "</div>"
            ],
            "text/plain": [
              "            EAR       MAR       PUC       MOE\n",
              "0     -0.873522 -1.380372 -0.067126 -0.474358\n",
              "1     -0.873522 -1.380372 -0.067126 -0.474358\n",
              "2     -0.873522 -1.402228 -0.067126 -0.495400\n",
              "3     -0.873522  1.326526 -0.067126  2.131768\n",
              "4      0.627844  1.326526 -0.388594  0.526276\n",
              "...         ...       ...       ...       ...\n",
              "60001  1.101467  0.228743  0.921352 -0.073856\n",
              "60002  0.290266  0.069983 -1.529633 -0.007520\n",
              "60003  1.901880  0.275737  2.221742 -0.226629\n",
              "60004  1.101467 -0.078860 -0.313887 -0.354479\n",
              "60005  1.101467  0.191694  1.083347 -0.107655\n",
              "\n",
              "[60006 rows x 4 columns]"
            ]
          },
          "metadata": {
            "tags": []
          },
          "execution_count": 5
        }
      ]
    },
    {
      "cell_type": "markdown",
      "metadata": {
        "id": "r1lAWmhEGgJY"
      },
      "source": [
        "Converting the csv data to numpy array so as to apply our learning models."
      ]
    },
    {
      "cell_type": "code",
      "metadata": {
        "colab": {
          "base_uri": "https://localhost:8080/"
        },
        "id": "yzNURMxcD_Fz",
        "outputId": "aff548af-b123-4c03-d2a7-e2817a6935b4"
      },
      "source": [
        "alert_x=alert.to_numpy()\n",
        "drowsy_x=pq.to_numpy()\n",
        "x=np.concatenate((alert_x,drowsy_x))\n",
        "x"
      ],
      "execution_count": 6,
      "outputs": [
        {
          "output_type": "execute_result",
          "data": {
            "text/plain": [
              "array([[-0.87352174, -1.38037163, -0.06712643, -0.47435762],\n",
              "       [-0.87352174, -1.38037163, -0.06712643, -0.47435762],\n",
              "       [-0.87352174, -1.40222759, -0.06712643, -0.49539992],\n",
              "       ...,\n",
              "       [-0.08690365,  3.71632729, -1.09215525,  3.40302391],\n",
              "       [-3.17608894,  2.78667839, -2.42675046,  7.29800137],\n",
              "       [-3.17608894,  3.78533965, -2.61744601,  8.48752285]])"
            ]
          },
          "metadata": {
            "tags": []
          },
          "execution_count": 6
        }
      ]
    },
    {
      "cell_type": "markdown",
      "metadata": {
        "id": "G00yCAKlGkNQ"
      },
      "source": [
        "Now, preparing the value corresponding to each situation.\n",
        "\n",
        "\"0\" for Alertness.\n",
        "\n",
        "\"1\" for Drowsiness\n"
      ]
    },
    {
      "cell_type": "code",
      "metadata": {
        "colab": {
          "base_uri": "https://localhost:8080/"
        },
        "id": "n3UZ4RABEBx-",
        "outputId": "ed719d4c-78bd-413b-a09f-7cead1527381"
      },
      "source": [
        "alert_y=np.zeros((60006))\n",
        "drowsy_y=np.ones(60006)\n",
        "y=np.concatenate((alert_y,drowsy_y))\n",
        "y"
      ],
      "execution_count": 7,
      "outputs": [
        {
          "output_type": "execute_result",
          "data": {
            "text/plain": [
              "array([0., 0., 0., ..., 1., 1., 1.])"
            ]
          },
          "metadata": {
            "tags": []
          },
          "execution_count": 7
        }
      ]
    },
    {
      "cell_type": "markdown",
      "metadata": {
        "id": "ZpbBexp7GW2h"
      },
      "source": [
        "Training our model"
      ]
    },
    {
      "cell_type": "code",
      "metadata": {
        "colab": {
          "base_uri": "https://localhost:8080/"
        },
        "id": "XQo1hUVbEE7g",
        "outputId": "22502122-c650-45c0-dbce-815c2c9005d3"
      },
      "source": [
        "model = GaussianNB()\n",
        "model.fit(x,y)"
      ],
      "execution_count": 9,
      "outputs": [
        {
          "output_type": "execute_result",
          "data": {
            "text/plain": [
              "GaussianNB(priors=None, var_smoothing=1e-09)"
            ]
          },
          "metadata": {
            "tags": []
          },
          "execution_count": 9
        }
      ]
    },
    {
      "cell_type": "code",
      "metadata": {
        "colab": {
          "base_uri": "https://localhost:8080/"
        },
        "id": "W9FJEI5pEKYn",
        "outputId": "88c2dd7f-338b-4ce2-f2a9-0a307a8649fe"
      },
      "source": [
        "model.predict(x)"
      ],
      "execution_count": 10,
      "outputs": [
        {
          "output_type": "execute_result",
          "data": {
            "text/plain": [
              "array([0., 0., 0., ..., 0., 1., 1.])"
            ]
          },
          "metadata": {
            "tags": []
          },
          "execution_count": 10
        }
      ]
    },
    {
      "cell_type": "code",
      "metadata": {
        "colab": {
          "base_uri": "https://localhost:8080/"
        },
        "id": "5eKkJjtHEVSh",
        "outputId": "6c3d28a0-0b62-43bb-b118-6578032d6aae"
      },
      "source": [
        "confusion_matrix(y, model.predict(x))"
      ],
      "execution_count": 12,
      "outputs": [
        {
          "output_type": "execute_result",
          "data": {
            "text/plain": [
              "array([[49839, 10167],\n",
              "       [37096, 22910]])"
            ]
          },
          "metadata": {
            "tags": []
          },
          "execution_count": 12
        }
      ]
    },
    {
      "cell_type": "code",
      "metadata": {
        "colab": {
          "base_uri": "https://localhost:8080/"
        },
        "id": "CSFMvsLWErk3",
        "outputId": "5c39f304-e19b-4c5b-fe14-0b65cd6fa2fa"
      },
      "source": [
        "print(classification_report(y, model.predict(x)))"
      ],
      "execution_count": 13,
      "outputs": [
        {
          "output_type": "stream",
          "text": [
            "              precision    recall  f1-score   support\n",
            "\n",
            "         0.0       0.57      0.83      0.68     60006\n",
            "         1.0       0.69      0.38      0.49     60006\n",
            "\n",
            "    accuracy                           0.61    120012\n",
            "   macro avg       0.63      0.61      0.59    120012\n",
            "weighted avg       0.63      0.61      0.59    120012\n",
            "\n"
          ],
          "name": "stdout"
        }
      ]
    },
    {
      "cell_type": "markdown",
      "metadata": {
        "id": "e8Of59WCGAC8"
      },
      "source": [
        "This model gives us 61% accuracy."
      ]
    },
    {
      "cell_type": "markdown",
      "metadata": {
        "id": "laejX9zrF8Ak"
      },
      "source": [
        "Saving our trained model for further use"
      ]
    },
    {
      "cell_type": "code",
      "metadata": {
        "id": "HztokMgHEvi7"
      },
      "source": [
        "import pickle\n",
        "pickle.dump(model,open(\"Naive_Bayes_model_drowsiness\",'wb'))"
      ],
      "execution_count": 15,
      "outputs": []
    },
    {
      "cell_type": "code",
      "metadata": {
        "id": "bhWTPqkmE7r9"
      },
      "source": [
        "p=pickle.load(open(\"Naive_Bayes_model_drowsiness\",'rb'))"
      ],
      "execution_count": 17,
      "outputs": []
    },
    {
      "cell_type": "code",
      "metadata": {
        "colab": {
          "base_uri": "https://localhost:8080/"
        },
        "id": "MNByq1GuFDIF",
        "outputId": "48352a7d-4916-40ce-a235-0df96e638cf6"
      },
      "source": [
        "p.predict(x)"
      ],
      "execution_count": 18,
      "outputs": [
        {
          "output_type": "execute_result",
          "data": {
            "text/plain": [
              "array([0., 0., 0., ..., 0., 1., 1.])"
            ]
          },
          "metadata": {
            "tags": []
          },
          "execution_count": 18
        }
      ]
    },
    {
      "cell_type": "code",
      "metadata": {
        "colab": {
          "base_uri": "https://localhost:8080/",
          "height": 463
        },
        "id": "S4q3ppOXFlE4",
        "outputId": "ae73d4d8-be29-40f0-db43-d08e5218ef1c"
      },
      "source": [
        "!pip install -U kora\n",
        "from kora.drive import upload_public\n",
        "url=upload_public(\"/content/Naive_Bayes_model_drowsiness\")\n",
        "url"
      ],
      "execution_count": 19,
      "outputs": [
        {
          "output_type": "stream",
          "text": [
            "Collecting kora\n",
            "  Downloading kora-0.9.19-py3-none-any.whl (57 kB)\n",
            "\u001b[?25l\r\u001b[K     |█████▊                          | 10 kB 28.8 MB/s eta 0:00:01\r\u001b[K     |███████████▍                    | 20 kB 22.4 MB/s eta 0:00:01\r\u001b[K     |█████████████████               | 30 kB 16.1 MB/s eta 0:00:01\r\u001b[K     |██████████████████████▊         | 40 kB 14.2 MB/s eta 0:00:01\r\u001b[K     |████████████████████████████▍   | 51 kB 6.5 MB/s eta 0:00:01\r\u001b[K     |████████████████████████████████| 57 kB 3.6 MB/s \n",
            "\u001b[?25hRequirement already satisfied: ipython in /usr/local/lib/python3.7/dist-packages (from kora) (5.5.0)\n",
            "Collecting fastcore\n",
            "  Downloading fastcore-1.3.25-py3-none-any.whl (54 kB)\n",
            "\u001b[K     |████████████████████████████████| 54 kB 3.3 MB/s \n",
            "\u001b[?25hRequirement already satisfied: packaging in /usr/local/lib/python3.7/dist-packages (from fastcore->kora) (21.0)\n",
            "Requirement already satisfied: pip in /usr/local/lib/python3.7/dist-packages (from fastcore->kora) (21.1.3)\n",
            "Requirement already satisfied: simplegeneric>0.8 in /usr/local/lib/python3.7/dist-packages (from ipython->kora) (0.8.1)\n",
            "Requirement already satisfied: decorator in /usr/local/lib/python3.7/dist-packages (from ipython->kora) (4.4.2)\n",
            "Requirement already satisfied: pickleshare in /usr/local/lib/python3.7/dist-packages (from ipython->kora) (0.7.5)\n",
            "Requirement already satisfied: traitlets>=4.2 in /usr/local/lib/python3.7/dist-packages (from ipython->kora) (5.0.5)\n",
            "Requirement already satisfied: pygments in /usr/local/lib/python3.7/dist-packages (from ipython->kora) (2.6.1)\n",
            "Requirement already satisfied: setuptools>=18.5 in /usr/local/lib/python3.7/dist-packages (from ipython->kora) (57.2.0)\n",
            "Requirement already satisfied: pexpect in /usr/local/lib/python3.7/dist-packages (from ipython->kora) (4.8.0)\n",
            "Requirement already satisfied: prompt-toolkit<2.0.0,>=1.0.4 in /usr/local/lib/python3.7/dist-packages (from ipython->kora) (1.0.18)\n",
            "Requirement already satisfied: six>=1.9.0 in /usr/local/lib/python3.7/dist-packages (from prompt-toolkit<2.0.0,>=1.0.4->ipython->kora) (1.15.0)\n",
            "Requirement already satisfied: wcwidth in /usr/local/lib/python3.7/dist-packages (from prompt-toolkit<2.0.0,>=1.0.4->ipython->kora) (0.2.5)\n",
            "Requirement already satisfied: ipython-genutils in /usr/local/lib/python3.7/dist-packages (from traitlets>=4.2->ipython->kora) (0.2.0)\n",
            "Requirement already satisfied: pyparsing>=2.0.2 in /usr/local/lib/python3.7/dist-packages (from packaging->fastcore->kora) (2.4.7)\n",
            "Requirement already satisfied: ptyprocess>=0.5 in /usr/local/lib/python3.7/dist-packages (from pexpect->ipython->kora) (0.7.0)\n",
            "Installing collected packages: fastcore, kora\n",
            "Successfully installed fastcore-1.3.25 kora-0.9.19\n"
          ],
          "name": "stdout"
        },
        {
          "output_type": "execute_result",
          "data": {
            "application/vnd.google.colaboratory.intrinsic+json": {
              "type": "string"
            },
            "text/plain": [
              "'https://drive.google.com/uc?id=1DtWhCUMtcocxzP_BEMGw3TrkXQeo2r5O'"
            ]
          },
          "metadata": {
            "tags": []
          },
          "execution_count": 19
        }
      ]
    },
    {
      "cell_type": "markdown",
      "metadata": {
        "id": "exy1tahEFx73"
      },
      "source": [
        "Our Naive bayes based drowsiness model is ready to use at\n",
        "\n",
        "https://drive.google.com/uc?id=1DtWhCUMtcocxzP_BEMGw3TrkXQeo2r5O"
      ]
    },
    {
      "cell_type": "code",
      "metadata": {
        "id": "uW-cqQbmFpEK"
      },
      "source": [
        ""
      ],
      "execution_count": null,
      "outputs": []
    }
  ]
}