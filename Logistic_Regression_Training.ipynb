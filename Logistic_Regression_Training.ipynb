{
  "nbformat": 4,
  "nbformat_minor": 0,
  "metadata": {
    "colab": {
      "name": "Logistic_Regression_Training.ipynb",
      "provenance": [],
      "authorship_tag": "ABX9TyNN2cGCqsV0EnIM+A2x+1cm",
      "include_colab_link": true
    },
    "kernelspec": {
      "name": "python3",
      "display_name": "Python 3"
    },
    "language_info": {
      "name": "python"
    }
  },
  "cells": [
    {
      "cell_type": "markdown",
      "metadata": {
        "id": "view-in-github",
        "colab_type": "text"
      },
      "source": [
        "<a href=\"https://colab.research.google.com/github/ritikgoyal1701/Drowsiness-Detector/blob/main/Logistic_Regression_Training.ipynb\" target=\"_parent\"><img src=\"https://colab.research.google.com/assets/colab-badge.svg\" alt=\"Open In Colab\"/></a>"
      ]
    },
    {
      "cell_type": "markdown",
      "metadata": {
        "id": "eXWKJ2BnSLfj"
      },
      "source": [
        "Logistic Regression is used for the training of our drowsiness model"
      ]
    },
    {
      "cell_type": "markdown",
      "metadata": {
        "id": "9iLraFb2O8sf"
      },
      "source": [
        "Importing important libraries"
      ]
    },
    {
      "cell_type": "code",
      "metadata": {
        "id": "_FpggdzcO76r"
      },
      "source": [
        "import matplotlib.pyplot as plt\n",
        "import pandas\n",
        "import numpy as np\n",
        "from sklearn.datasets import load_digits\n",
        "from sklearn.linear_model import LogisticRegression\n",
        "from sklearn.metrics import classification_report, confusion_matrix\n",
        "from sklearn.model_selection import train_test_split\n",
        "from sklearn.preprocessing import StandardScaler"
      ],
      "execution_count": null,
      "outputs": []
    },
    {
      "cell_type": "markdown",
      "metadata": {
        "id": "KKnUxv9JPFT1"
      },
      "source": [
        "Downloading the dataset which we have previously prepared\n",
        "1. Drowsy\n",
        "2. Alert"
      ]
    },
    {
      "cell_type": "code",
      "metadata": {
        "colab": {
          "base_uri": "https://localhost:8080/"
        },
        "id": "Ws_ZteM8cpHZ",
        "outputId": "470fdbda-2c94-44b4-cad7-cc88378f6580"
      },
      "source": [
        "!wget \"https://drive.google.com/uc?id=1AE9anQEIJrQnjXU6R4CSew81An-3Qs0I\""
      ],
      "execution_count": 2,
      "outputs": [
        {
          "output_type": "stream",
          "text": [
            "--2021-08-03 08:53:35--  https://drive.google.com/uc?id=1AE9anQEIJrQnjXU6R4CSew81An-3Qs0I\n",
            "Resolving drive.google.com (drive.google.com)... 74.125.195.113, 74.125.195.138, 74.125.195.101, ...\n",
            "Connecting to drive.google.com (drive.google.com)|74.125.195.113|:443... connected.\n",
            "HTTP request sent, awaiting response... 302 Moved Temporarily\n",
            "Location: https://doc-0c-7k-docs.googleusercontent.com/docs/securesc/ha0ro937gcuc7l7deffksulhg5h7mbp1/h2v46abrtdf44porjt5bijeob4vqhubm/1627980750000/12611103512387577130/*/1AE9anQEIJrQnjXU6R4CSew81An-3Qs0I [following]\n",
            "Warning: wildcards not supported in HTTP.\n",
            "--2021-08-03 08:53:37--  https://doc-0c-7k-docs.googleusercontent.com/docs/securesc/ha0ro937gcuc7l7deffksulhg5h7mbp1/h2v46abrtdf44porjt5bijeob4vqhubm/1627980750000/12611103512387577130/*/1AE9anQEIJrQnjXU6R4CSew81An-3Qs0I\n",
            "Resolving doc-0c-7k-docs.googleusercontent.com (doc-0c-7k-docs.googleusercontent.com)... 74.125.195.132, 2607:f8b0:400e:c09::84\n",
            "Connecting to doc-0c-7k-docs.googleusercontent.com (doc-0c-7k-docs.googleusercontent.com)|74.125.195.132|:443... connected.\n",
            "HTTP request sent, awaiting response... 200 OK\n",
            "Length: unspecified [text/csv]\n",
            "Saving to: ‘uc?id=1AE9anQEIJrQnjXU6R4CSew81An-3Qs0I.1’\n",
            "\n",
            "uc?id=1AE9anQEIJrQn     [ <=>                ]   4.76M  --.-KB/s    in 0.03s   \n",
            "\n",
            "2021-08-03 08:53:37 (171 MB/s) - ‘uc?id=1AE9anQEIJrQnjXU6R4CSew81An-3Qs0I.1’ saved [4992968]\n",
            "\n",
            "--2021-08-03 08:53:37--  http://drowsy.csv/\n",
            "Resolving drowsy.csv (drowsy.csv)... failed: Name or service not known.\n",
            "wget: unable to resolve host address ‘drowsy.csv’\n",
            "FINISHED --2021-08-03 08:53:37--\n",
            "Total wall clock time: 1.3s\n",
            "Downloaded: 1 files, 4.8M in 0.03s (171 MB/s)\n"
          ],
          "name": "stdout"
        }
      ]
    },
    {
      "cell_type": "code",
      "metadata": {
        "id": "K-mmCQ9odTum",
        "colab": {
          "base_uri": "https://localhost:8080/",
          "height": 419
        },
        "outputId": "2975bd41-2e7c-4ea4-90c8-533597433574"
      },
      "source": [
        "pq=pandas.read_csv(\"/content/uc?id=1AE9anQEIJrQnjXU6R4CSew81An-3Qs0I\")\n",
        "pq.drop(\"Unnamed: 0\",axis=1,inplace=True)\n",
        "pq"
      ],
      "execution_count": 38,
      "outputs": [
        {
          "output_type": "execute_result",
          "data": {
            "text/html": [
              "<div>\n",
              "<style scoped>\n",
              "    .dataframe tbody tr th:only-of-type {\n",
              "        vertical-align: middle;\n",
              "    }\n",
              "\n",
              "    .dataframe tbody tr th {\n",
              "        vertical-align: top;\n",
              "    }\n",
              "\n",
              "    .dataframe thead th {\n",
              "        text-align: right;\n",
              "    }\n",
              "</style>\n",
              "<table border=\"1\" class=\"dataframe\">\n",
              "  <thead>\n",
              "    <tr style=\"text-align: right;\">\n",
              "      <th></th>\n",
              "      <th>EAR</th>\n",
              "      <th>MAR</th>\n",
              "      <th>PUC</th>\n",
              "      <th>MOE</th>\n",
              "    </tr>\n",
              "  </thead>\n",
              "  <tbody>\n",
              "    <tr>\n",
              "      <th>0</th>\n",
              "      <td>-1.695219</td>\n",
              "      <td>-0.478695</td>\n",
              "      <td>-2.542126</td>\n",
              "      <td>0.012934</td>\n",
              "    </tr>\n",
              "    <tr>\n",
              "      <th>1</th>\n",
              "      <td>-1.117250</td>\n",
              "      <td>-0.088761</td>\n",
              "      <td>-0.374188</td>\n",
              "      <td>0.256548</td>\n",
              "    </tr>\n",
              "    <tr>\n",
              "      <th>2</th>\n",
              "      <td>-1.653670</td>\n",
              "      <td>-0.325083</td>\n",
              "      <td>-0.627831</td>\n",
              "      <td>0.174467</td>\n",
              "    </tr>\n",
              "    <tr>\n",
              "      <th>3</th>\n",
              "      <td>-1.653670</td>\n",
              "      <td>-0.325083</td>\n",
              "      <td>-0.514742</td>\n",
              "      <td>0.174467</td>\n",
              "    </tr>\n",
              "    <tr>\n",
              "      <th>4</th>\n",
              "      <td>-1.653670</td>\n",
              "      <td>-0.405585</td>\n",
              "      <td>-0.514742</td>\n",
              "      <td>0.082690</td>\n",
              "    </tr>\n",
              "    <tr>\n",
              "      <th>...</th>\n",
              "      <td>...</td>\n",
              "      <td>...</td>\n",
              "      <td>...</td>\n",
              "      <td>...</td>\n",
              "    </tr>\n",
              "    <tr>\n",
              "      <th>60001</th>\n",
              "      <td>-0.100015</td>\n",
              "      <td>6.067398</td>\n",
              "      <td>-1.258254</td>\n",
              "      <td>5.545738</td>\n",
              "    </tr>\n",
              "    <tr>\n",
              "      <th>60002</th>\n",
              "      <td>0.096715</td>\n",
              "      <td>5.119457</td>\n",
              "      <td>-1.274578</td>\n",
              "      <td>4.430580</td>\n",
              "    </tr>\n",
              "    <tr>\n",
              "      <th>60003</th>\n",
              "      <td>-0.086904</td>\n",
              "      <td>3.716327</td>\n",
              "      <td>-1.092155</td>\n",
              "      <td>3.403024</td>\n",
              "    </tr>\n",
              "    <tr>\n",
              "      <th>60004</th>\n",
              "      <td>-3.176089</td>\n",
              "      <td>2.786678</td>\n",
              "      <td>-2.426750</td>\n",
              "      <td>7.298001</td>\n",
              "    </tr>\n",
              "    <tr>\n",
              "      <th>60005</th>\n",
              "      <td>-3.176089</td>\n",
              "      <td>3.785340</td>\n",
              "      <td>-2.617446</td>\n",
              "      <td>8.487523</td>\n",
              "    </tr>\n",
              "  </tbody>\n",
              "</table>\n",
              "<p>60006 rows × 4 columns</p>\n",
              "</div>"
            ],
            "text/plain": [
              "            EAR       MAR       PUC       MOE\n",
              "0     -1.695219 -0.478695 -2.542126  0.012934\n",
              "1     -1.117250 -0.088761 -0.374188  0.256548\n",
              "2     -1.653670 -0.325083 -0.627831  0.174467\n",
              "3     -1.653670 -0.325083 -0.514742  0.174467\n",
              "4     -1.653670 -0.405585 -0.514742  0.082690\n",
              "...         ...       ...       ...       ...\n",
              "60001 -0.100015  6.067398 -1.258254  5.545738\n",
              "60002  0.096715  5.119457 -1.274578  4.430580\n",
              "60003 -0.086904  3.716327 -1.092155  3.403024\n",
              "60004 -3.176089  2.786678 -2.426750  7.298001\n",
              "60005 -3.176089  3.785340 -2.617446  8.487523\n",
              "\n",
              "[60006 rows x 4 columns]"
            ]
          },
          "metadata": {
            "tags": []
          },
          "execution_count": 38
        }
      ]
    },
    {
      "cell_type": "code",
      "metadata": {
        "colab": {
          "base_uri": "https://localhost:8080/"
        },
        "id": "BkJ5rRtbdsGJ",
        "outputId": "a8327753-529a-4033-edb1-456e5e4c1899"
      },
      "source": [
        "!wget \"https://drive.google.com/uc?id=1698bSBXSWG4ktuSLGdzYAB-arYwhhJjY\""
      ],
      "execution_count": 7,
      "outputs": [
        {
          "output_type": "stream",
          "text": [
            "--2021-08-03 08:54:14--  https://drive.google.com/uc?id=1698bSBXSWG4ktuSLGdzYAB-arYwhhJjY\n",
            "Resolving drive.google.com (drive.google.com)... 74.125.135.139, 74.125.135.100, 74.125.135.102, ...\n",
            "Connecting to drive.google.com (drive.google.com)|74.125.135.139|:443... connected.\n",
            "HTTP request sent, awaiting response... 302 Moved Temporarily\n",
            "Location: https://doc-14-7k-docs.googleusercontent.com/docs/securesc/ha0ro937gcuc7l7deffksulhg5h7mbp1/fc0m8nm7nik5r97uab31sc25jgvmqt60/1627980825000/12611103512387577130/*/1698bSBXSWG4ktuSLGdzYAB-arYwhhJjY [following]\n",
            "Warning: wildcards not supported in HTTP.\n",
            "--2021-08-03 08:54:15--  https://doc-14-7k-docs.googleusercontent.com/docs/securesc/ha0ro937gcuc7l7deffksulhg5h7mbp1/fc0m8nm7nik5r97uab31sc25jgvmqt60/1627980825000/12611103512387577130/*/1698bSBXSWG4ktuSLGdzYAB-arYwhhJjY\n",
            "Resolving doc-14-7k-docs.googleusercontent.com (doc-14-7k-docs.googleusercontent.com)... 74.125.195.132, 2607:f8b0:400e:c09::84\n",
            "Connecting to doc-14-7k-docs.googleusercontent.com (doc-14-7k-docs.googleusercontent.com)|74.125.195.132|:443... connected.\n",
            "HTTP request sent, awaiting response... 200 OK\n",
            "Length: unspecified [text/csv]\n",
            "Saving to: ‘uc?id=1698bSBXSWG4ktuSLGdzYAB-arYwhhJjY’\n",
            "\n",
            "uc?id=1698bSBXSWG4k     [ <=>                ]   4.77M  --.-KB/s    in 0.07s   \n",
            "\n",
            "2021-08-03 08:54:15 (64.1 MB/s) - ‘uc?id=1698bSBXSWG4ktuSLGdzYAB-arYwhhJjY’ saved [5000698]\n",
            "\n"
          ],
          "name": "stdout"
        }
      ]
    },
    {
      "cell_type": "code",
      "metadata": {
        "id": "l2GgnOKqd5Hd"
      },
      "source": [
        "alert=pandas.read_csv(\"/content/uc?id=1698bSBXSWG4ktuSLGdzYAB-arYwhhJjY\")\n",
        "alert.drop(\"Unnamed: 0\",axis=1, inplace=True)\n",
        "alert"
      ],
      "execution_count": 8,
      "outputs": []
    },
    {
      "cell_type": "markdown",
      "metadata": {
        "id": "Xoc2wJqHPfJ6"
      },
      "source": [
        "Converting the csv data to numpy array so as to apply our learning models."
      ]
    },
    {
      "cell_type": "code",
      "metadata": {
        "id": "mC90lUq9eHDu",
        "colab": {
          "base_uri": "https://localhost:8080/"
        },
        "outputId": "4ad5f2f0-fce1-4b56-f71e-b79f6a8a05d4"
      },
      "source": [
        "alert_x=alert.to_numpy()\n",
        "drowsy_x=pq.to_numpy()\n",
        "x=np.concatenate((alert_x,drowsy_x))\n",
        "x"
      ],
      "execution_count": 39,
      "outputs": [
        {
          "output_type": "execute_result",
          "data": {
            "text/plain": [
              "array([[-0.87352174, -1.38037163, -0.06712643, -0.47435762],\n",
              "       [-0.87352174, -1.38037163, -0.06712643, -0.47435762],\n",
              "       [-0.87352174, -1.40222759, -0.06712643, -0.49539992],\n",
              "       ...,\n",
              "       [-0.08690365,  3.71632729, -1.09215525,  3.40302391],\n",
              "       [-3.17608894,  2.78667839, -2.42675046,  7.29800137],\n",
              "       [-3.17608894,  3.78533965, -2.61744601,  8.48752285]])"
            ]
          },
          "metadata": {
            "tags": []
          },
          "execution_count": 39
        }
      ]
    },
    {
      "cell_type": "markdown",
      "metadata": {
        "id": "ckBI1NPAPzar"
      },
      "source": [
        "Now, preparing the value corresponding to each situation.\n",
        "\n",
        "\"0\" for Alertness.\n",
        "\n",
        "\"1\" for Drowsiness"
      ]
    },
    {
      "cell_type": "code",
      "metadata": {
        "id": "D5eiphC4frIy",
        "colab": {
          "base_uri": "https://localhost:8080/"
        },
        "outputId": "41dd9d03-6df6-4eaf-8c48-e726565710c5"
      },
      "source": [
        "alert_y=np.zeros((60006))\n",
        "drowsy_y=np.ones(60006)\n",
        "y=np.concatenate((alert_y,drowsy_y))\n",
        "y"
      ],
      "execution_count": 40,
      "outputs": [
        {
          "output_type": "execute_result",
          "data": {
            "text/plain": [
              "array([0., 0., 0., ..., 1., 1., 1.])"
            ]
          },
          "metadata": {
            "tags": []
          },
          "execution_count": 40
        }
      ]
    },
    {
      "cell_type": "markdown",
      "metadata": {
        "id": "4HSsvSOjQPUF"
      },
      "source": [
        "Seggregating our test and training data"
      ]
    },
    {
      "cell_type": "code",
      "metadata": {
        "id": "Suic5TlsiC_F"
      },
      "source": [
        "x_train, x_test, y_train, y_test =train_test_split(x, y, test_size=0.2, random_state=0)"
      ],
      "execution_count": 41,
      "outputs": []
    },
    {
      "cell_type": "code",
      "metadata": {
        "id": "O90ZfqfWpTgL"
      },
      "source": [
        "scaler = StandardScaler()\n",
        "x_train = scaler.fit_transform(x_train)"
      ],
      "execution_count": 42,
      "outputs": []
    },
    {
      "cell_type": "code",
      "metadata": {
        "colab": {
          "base_uri": "https://localhost:8080/"
        },
        "id": "4mARhuTWogiQ",
        "outputId": "73283cca-ebfd-4e63-ca4f-d28f9306dfd3"
      },
      "source": [
        "model1 = LogisticRegression(solver='liblinear', C=0.05, multi_class='ovr',\n",
        "                           random_state=0)\n",
        "model1.fit(x_train, y_train)"
      ],
      "execution_count": 43,
      "outputs": [
        {
          "output_type": "execute_result",
          "data": {
            "text/plain": [
              "LogisticRegression(C=0.05, class_weight=None, dual=False, fit_intercept=True,\n",
              "                   intercept_scaling=1, l1_ratio=None, max_iter=100,\n",
              "                   multi_class='ovr', n_jobs=None, penalty='l2', random_state=0,\n",
              "                   solver='liblinear', tol=0.0001, verbose=0, warm_start=False)"
            ]
          },
          "metadata": {
            "tags": []
          },
          "execution_count": 43
        }
      ]
    },
    {
      "cell_type": "code",
      "metadata": {
        "id": "tKp9P4lNpWut"
      },
      "source": [
        "x_test = scaler.transform(x_test)"
      ],
      "execution_count": 44,
      "outputs": []
    },
    {
      "cell_type": "code",
      "metadata": {
        "colab": {
          "base_uri": "https://localhost:8080/"
        },
        "id": "AGiBLIBxoy17",
        "outputId": "36ed81b3-97cf-4032-9013-e79193bc35b8"
      },
      "source": [
        "y_pred = model1.predict(x_test)\n",
        "y_pred"
      ],
      "execution_count": 45,
      "outputs": [
        {
          "output_type": "execute_result",
          "data": {
            "text/plain": [
              "array([1., 0., 1., ..., 0., 1., 0.])"
            ]
          },
          "metadata": {
            "tags": []
          },
          "execution_count": 45
        }
      ]
    },
    {
      "cell_type": "code",
      "metadata": {
        "colab": {
          "base_uri": "https://localhost:8080/"
        },
        "id": "WXtGuMQvo3Ok",
        "outputId": "03d54547-b184-4c89-8ffe-5feb25029ddb"
      },
      "source": [
        "model1.score(x_train, y_train)"
      ],
      "execution_count": 46,
      "outputs": [
        {
          "output_type": "execute_result",
          "data": {
            "text/plain": [
              "0.5596558655959337"
            ]
          },
          "metadata": {
            "tags": []
          },
          "execution_count": 46
        }
      ]
    },
    {
      "cell_type": "code",
      "metadata": {
        "colab": {
          "base_uri": "https://localhost:8080/"
        },
        "id": "EQDwOUlzo9GH",
        "outputId": "fc1009ef-0eee-4dc0-c8fd-d5f677a7170a"
      },
      "source": [
        "model1.score(x_test, y_test)"
      ],
      "execution_count": 47,
      "outputs": [
        {
          "output_type": "execute_result",
          "data": {
            "text/plain": [
              "0.5620964046160897"
            ]
          },
          "metadata": {
            "tags": []
          },
          "execution_count": 47
        }
      ]
    },
    {
      "cell_type": "code",
      "metadata": {
        "colab": {
          "base_uri": "https://localhost:8080/"
        },
        "id": "VWq10nApo_CI",
        "outputId": "1421e86c-e600-40e9-dba7-d05189ac8584"
      },
      "source": [
        "confusion_matrix(y_test, y_pred)"
      ],
      "execution_count": 48,
      "outputs": [
        {
          "output_type": "execute_result",
          "data": {
            "text/plain": [
              "array([[7474, 4498],\n",
              "       [6013, 6018]])"
            ]
          },
          "metadata": {
            "tags": []
          },
          "execution_count": 48
        }
      ]
    },
    {
      "cell_type": "code",
      "metadata": {
        "colab": {
          "base_uri": "https://localhost:8080/"
        },
        "id": "2IDIus8kpGH9",
        "outputId": "91bfbb32-16b7-4f03-c2ad-88e957660647"
      },
      "source": [
        "print(classification_report(y_test, y_pred))"
      ],
      "execution_count": 49,
      "outputs": [
        {
          "output_type": "stream",
          "text": [
            "              precision    recall  f1-score   support\n",
            "\n",
            "         0.0       0.55      0.62      0.59     11972\n",
            "         1.0       0.57      0.50      0.53     12031\n",
            "\n",
            "    accuracy                           0.56     24003\n",
            "   macro avg       0.56      0.56      0.56     24003\n",
            "weighted avg       0.56      0.56      0.56     24003\n",
            "\n"
          ],
          "name": "stdout"
        }
      ]
    },
    {
      "cell_type": "code",
      "metadata": {
        "id": "PiIwZn7eQiLg"
      },
      "source": [
        "import pickle\n",
        "pickle.dump(model1,open(\"logistic_model_drowsiness\",'wb'))"
      ],
      "execution_count": 50,
      "outputs": []
    },
    {
      "cell_type": "code",
      "metadata": {
        "id": "bZDzJT_8RXX5"
      },
      "source": [
        "p=pickle.load(open(\"logistic_model_drowsiness\",'rb'))"
      ],
      "execution_count": 51,
      "outputs": []
    },
    {
      "cell_type": "code",
      "metadata": {
        "colab": {
          "base_uri": "https://localhost:8080/"
        },
        "id": "IkBjFAnlRkPL",
        "outputId": "60dcea00-5fc4-43d5-9373-454db1e7a78b"
      },
      "source": [
        "p.score(x_test,y_test)"
      ],
      "execution_count": 52,
      "outputs": [
        {
          "output_type": "execute_result",
          "data": {
            "text/plain": [
              "0.5620964046160897"
            ]
          },
          "metadata": {
            "tags": []
          },
          "execution_count": 52
        }
      ]
    },
    {
      "cell_type": "code",
      "metadata": {
        "colab": {
          "base_uri": "https://localhost:8080/",
          "height": 463
        },
        "id": "MbV-Df2-Rp_3",
        "outputId": "6ccd2876-faa7-4b83-bc0c-f83a61304695"
      },
      "source": [
        "!pip install -U kora\n",
        "from kora.drive import upload_public\n",
        "url=upload_public(\"/content/logistic_model_drowsiness\")\n",
        "url"
      ],
      "execution_count": 53,
      "outputs": [
        {
          "output_type": "stream",
          "text": [
            "Collecting kora\n",
            "  Downloading kora-0.9.19-py3-none-any.whl (57 kB)\n",
            "\u001b[?25l\r\u001b[K     |█████▊                          | 10 kB 24.3 MB/s eta 0:00:01\r\u001b[K     |███████████▍                    | 20 kB 28.5 MB/s eta 0:00:01\r\u001b[K     |█████████████████               | 30 kB 20.4 MB/s eta 0:00:01\r\u001b[K     |██████████████████████▊         | 40 kB 16.7 MB/s eta 0:00:01\r\u001b[K     |████████████████████████████▍   | 51 kB 8.5 MB/s eta 0:00:01\r\u001b[K     |████████████████████████████████| 57 kB 3.1 MB/s \n",
            "\u001b[?25hRequirement already satisfied: ipython in /usr/local/lib/python3.7/dist-packages (from kora) (5.5.0)\n",
            "Collecting fastcore\n",
            "  Downloading fastcore-1.3.25-py3-none-any.whl (54 kB)\n",
            "\u001b[K     |████████████████████████████████| 54 kB 2.7 MB/s \n",
            "\u001b[?25hRequirement already satisfied: packaging in /usr/local/lib/python3.7/dist-packages (from fastcore->kora) (21.0)\n",
            "Requirement already satisfied: pip in /usr/local/lib/python3.7/dist-packages (from fastcore->kora) (21.1.3)\n",
            "Requirement already satisfied: prompt-toolkit<2.0.0,>=1.0.4 in /usr/local/lib/python3.7/dist-packages (from ipython->kora) (1.0.18)\n",
            "Requirement already satisfied: pickleshare in /usr/local/lib/python3.7/dist-packages (from ipython->kora) (0.7.5)\n",
            "Requirement already satisfied: setuptools>=18.5 in /usr/local/lib/python3.7/dist-packages (from ipython->kora) (57.2.0)\n",
            "Requirement already satisfied: simplegeneric>0.8 in /usr/local/lib/python3.7/dist-packages (from ipython->kora) (0.8.1)\n",
            "Requirement already satisfied: pygments in /usr/local/lib/python3.7/dist-packages (from ipython->kora) (2.6.1)\n",
            "Requirement already satisfied: pexpect in /usr/local/lib/python3.7/dist-packages (from ipython->kora) (4.8.0)\n",
            "Requirement already satisfied: traitlets>=4.2 in /usr/local/lib/python3.7/dist-packages (from ipython->kora) (5.0.5)\n",
            "Requirement already satisfied: decorator in /usr/local/lib/python3.7/dist-packages (from ipython->kora) (4.4.2)\n",
            "Requirement already satisfied: wcwidth in /usr/local/lib/python3.7/dist-packages (from prompt-toolkit<2.0.0,>=1.0.4->ipython->kora) (0.2.5)\n",
            "Requirement already satisfied: six>=1.9.0 in /usr/local/lib/python3.7/dist-packages (from prompt-toolkit<2.0.0,>=1.0.4->ipython->kora) (1.15.0)\n",
            "Requirement already satisfied: ipython-genutils in /usr/local/lib/python3.7/dist-packages (from traitlets>=4.2->ipython->kora) (0.2.0)\n",
            "Requirement already satisfied: pyparsing>=2.0.2 in /usr/local/lib/python3.7/dist-packages (from packaging->fastcore->kora) (2.4.7)\n",
            "Requirement already satisfied: ptyprocess>=0.5 in /usr/local/lib/python3.7/dist-packages (from pexpect->ipython->kora) (0.7.0)\n",
            "Installing collected packages: fastcore, kora\n",
            "Successfully installed fastcore-1.3.25 kora-0.9.19\n"
          ],
          "name": "stdout"
        },
        {
          "output_type": "execute_result",
          "data": {
            "application/vnd.google.colaboratory.intrinsic+json": {
              "type": "string"
            },
            "text/plain": [
              "'https://drive.google.com/uc?id=1nfKjqTNKCRb8JyOJXqEBiVWNDGnNIipg'"
            ]
          },
          "metadata": {
            "tags": []
          },
          "execution_count": 53
        }
      ]
    },
    {
      "cell_type": "markdown",
      "metadata": {
        "id": "CLIHRk5uSC-l"
      },
      "source": [
        "Our logistic regression drowsiness model is ready to use and is available at https://drive.google.com/uc?id=1nfKjqTNKCRb8JyOJXqEBiVWNDGnNIipg"
      ]
    }
  ]
}